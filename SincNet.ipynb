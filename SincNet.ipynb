{
  "nbformat": 4,
  "nbformat_minor": 0,
  "metadata": {
    "colab": {
      "name": "SincNet.ipynb",
      "provenance": [],
      "collapsed_sections": [],
      "mount_file_id": "13j8STpGN8qJRmmAlFDpxTpqZw9YbLmKH",
      "authorship_tag": "ABX9TyNj7f/dUM9w+eglCSgMmVD3",
      "include_colab_link": true
    },
    "kernelspec": {
      "name": "python3",
      "display_name": "Python 3"
    },
    "accelerator": "TPU"
  },
  "cells": [
    {
      "cell_type": "markdown",
      "metadata": {
        "id": "view-in-github",
        "colab_type": "text"
      },
      "source": [
        "<a href=\"https://colab.research.google.com/github/siddhartha18101/Covid-19/blob/master/SincNet.ipynb\" target=\"_parent\"><img src=\"https://colab.research.google.com/assets/colab-badge.svg\" alt=\"Open In Colab\"/></a>"
      ]
    },
    {
      "cell_type": "code",
      "metadata": {
        "id": "6zmVH8MfAGJi",
        "colab_type": "code",
        "outputId": "eadad954-dae2-4112-e6aa-921046953683",
        "colab": {
          "base_uri": "https://localhost:8080/",
          "height": 84
        }
      },
      "source": [
        "!pip install torchaudio\n"
      ],
      "execution_count": 0,
      "outputs": [
        {
          "output_type": "stream",
          "text": [
            "Requirement already satisfied: torchaudio in /usr/local/lib/python3.6/dist-packages (0.5.0)\n",
            "Requirement already satisfied: torch==1.5.0 in /usr/local/lib/python3.6/dist-packages (from torchaudio) (1.5.0+cu101)\n",
            "Requirement already satisfied: numpy in /usr/local/lib/python3.6/dist-packages (from torch==1.5.0->torchaudio) (1.18.4)\n",
            "Requirement already satisfied: future in /usr/local/lib/python3.6/dist-packages (from torch==1.5.0->torchaudio) (0.16.0)\n"
          ],
          "name": "stdout"
        }
      ]
    },
    {
      "cell_type": "code",
      "metadata": {
        "id": "0YcetPSLsajZ",
        "colab_type": "code",
        "colab": {}
      },
      "source": [
        "import glob\n",
        "import pandas as pd\n",
        "import numpy as np\n",
        "import matplotlib.pyplot as plt\n",
        "%matplotlib inline\n",
        "import torch\n",
        "import torchaudio"
      ],
      "execution_count": 0,
      "outputs": []
    },
    {
      "cell_type": "code",
      "metadata": {
        "id": "kQM58p5iGowI",
        "colab_type": "code",
        "colab": {}
      },
      "source": [
        "train_files = glob.glob('/content/drive/My Drive/FInalModel/Data/*.wav')\n",
        "file_to_label = {}\n",
        "train_labels = pd.read_csv('/content/drive/My Drive/CovidData/meta/esc50.csv')\n",
        "for v,l in zip( train_labels.filename.values, train_labels.category.values):\n",
        "  v = \"/content/drive/My Drive/FInalModel/Data/\"+v\n",
        "  file_to_label[v]= l\n",
        "train_files1 = glob.glob('/content/drive/My Drive/FInalModel/Data/audio/*.wav')\n",
        "for v,l in zip( train_labels.filename.values, train_labels.category.values):\n",
        "  v = \"/content/drive/My Drive/FInalModel/Data/audio/\"+v\n",
        "  file_to_label[v]= l\n",
        "train_files = train_files + train_files1"
      ],
      "execution_count": 0,
      "outputs": []
    },
    {
      "cell_type": "code",
      "metadata": {
        "id": "dT5SYJ09JHVN",
        "colab_type": "code",
        "colab": {}
      },
      "source": [
        "\n",
        "# file_to_label = {}\n",
        "\n",
        "# for v,l in zip( train_labels.filename.values, train_labels.category.values):\n",
        "#   v = \"/content/drive/My Drive/FInalModel/Data/\"+v\n",
        "#   file_to_label[v]= l\n",
        "#     # if(k == v and l=='sneezing'):\n",
        "#     #   file_to_label[k]= torch.tensor([0,1], dtype=torch.float32)\n",
        "#     # # if(k == v and l!='coughing' and l!='sneezing'):\n",
        "#     # #   file_to_label[k] = torch.tensor([0,0,1], dtype=torch.float32)\n",
        "    "
      ],
      "execution_count": 0,
      "outputs": []
    },
    {
      "cell_type": "code",
      "metadata": {
        "id": "s4ZJHhffXnMq",
        "colab_type": "code",
        "colab": {}
      },
      "source": [
        "\n",
        "list_labels = sorted(list(set(train_labels.category.values)))\n",
        "\n",
        "label_to_int = {k:v for v,k in enumerate(list_labels)}\n",
        "\n",
        "int_to_label = {v:k for k,v in label_to_int.items()}\n",
        "\n",
        "file_to_int = {k:label_to_int[v] for k,v in file_to_label.items()}"
      ],
      "execution_count": 0,
      "outputs": []
    },
    {
      "cell_type": "code",
      "metadata": {
        "id": "fA1y7ORRX9F5",
        "colab_type": "code",
        "colab": {}
      },
      "source": [
        "len = 0\n",
        "for x in file_to_int:\n",
        "  i = file_to_int[x]\n",
        "  y = torch.zeros(1,50,dtype=  torch.float32)\n",
        "  y[0,i] = torch.tensor(1, dtype=  torch.float32 )\n",
        "  file_to_int[x] = y"
      ],
      "execution_count": 0,
      "outputs": []
    },
    {
      "cell_type": "code",
      "metadata": {
        "id": "quyeiEJ1Ai2m",
        "colab_type": "code",
        "outputId": "e7a645aa-43f8-4226-c159-4cbee230ab86",
        "colab": {
          "base_uri": "https://localhost:8080/",
          "height": 67
        }
      },
      "source": [
        "i=3\n",
        "y = torch.zeros(1,50,dtype=  torch.float32)\n",
        "y[0,i] = torch.tensor(1, dtype=  torch.float32 )\n",
        "print(y)"
      ],
      "execution_count": 0,
      "outputs": [
        {
          "output_type": "stream",
          "text": [
            "tensor([[0., 0., 0., 1., 0., 0., 0., 0., 0., 0., 0., 0., 0., 0., 0., 0., 0., 0.,\n",
            "         0., 0., 0., 0., 0., 0., 0., 0., 0., 0., 0., 0., 0., 0., 0., 0., 0., 0.,\n",
            "         0., 0., 0., 0., 0., 0., 0., 0., 0., 0., 0., 0., 0., 0.]])\n"
          ],
          "name": "stdout"
        }
      ]
    },
    {
      "cell_type": "code",
      "metadata": {
        "id": "I1wpFR4qgG1A",
        "colab_type": "code",
        "colab": {}
      },
      "source": [
        "import random\n",
        "keys = list(file_to_int)\n",
        "random.shuffle(keys)\n",
        "new = [(key, file_to_int[key]) for key in keys]\n",
        "file_to_int = dict(new)"
      ],
      "execution_count": 0,
      "outputs": []
    },
    {
      "cell_type": "code",
      "metadata": {
        "id": "4z7IbDC8J0Fg",
        "colab_type": "code",
        "colab": {}
      },
      "source": [
        "signal, rate = torchaudio.load('/content/drive/My Drive/FInalModel/Data/1-19111-A-24.wav')"
      ],
      "execution_count": 0,
      "outputs": []
    },
    {
      "cell_type": "code",
      "metadata": {
        "id": "kKWuIsESLfJi",
        "colab_type": "code",
        "outputId": "c1146ccf-6df3-4e8e-af54-a4c7c68b3a10",
        "colab": {
          "base_uri": "https://localhost:8080/",
          "height": 331
        }
      },
      "source": [
        "\n",
        "plt.plot(signal.t().numpy())\n",
        "plt.title('Sample Signal')\n",
        "plt.show()\n",
        "print('No. of samples: ' + str(signal.shape[1]))\n",
        "print('Smapling Rate: ' + str(rate))\n",
        "print('Time period: ' + str(signal.shape[0]/rate))"
      ],
      "execution_count": 0,
      "outputs": [
        {
          "output_type": "display_data",
          "data": {
            "image/png": "[encoded data removed]",
            "text/plain": [
              "<Figure size 432x288 with 1 Axes>"
            ]
          },
          "metadata": {
            "tags": [],
            "needs_background": "light"
          }
        },
        {
          "output_type": "stream",
          "text": [
            "No. of samples: 220500\n",
            "Smapling Rate: 44100\n",
            "Time period: 2.2675736961451248e-05\n"
          ],
          "name": "stdout"
        }
      ]
    },
    {
      "cell_type": "code",
      "metadata": {
        "id": "uTtnUk0BZ6cf",
        "colab_type": "code",
        "outputId": "318825a1-d39c-49a4-f326-7f5d858260f4",
        "colab": {
          "base_uri": "https://localhost:8080/",
          "height": 230
        }
      },
      "source": [
        "signal, rate = torchaudio.load('/content/drive/My Drive/FInalModel/Data/1-19111-A-24.wav')\n",
        "signal = signal.reshape((1,1,220500))\n",
        "x = nn.Sequential(\n",
        "            SincConv_fast(80, 64, stride=8),\n",
        "            nn.BatchNorm1d(80),\n",
        "            nn.MaxPool1d(16, stride=2 ),\n",
        "            nn.LeakyReLU()) (signal)\n",
        "\n",
        "x1 = nn.Sequential(\n",
        "            nn.Conv1d(80,160, 64, 4),\n",
        "            nn.BatchNorm1d(160),\n",
        "            nn.AvgPool1d(8, stride=2 ),\n",
        "            nn.LeakyReLU()) (x)\n",
        "\n",
        "x2 = nn.Sequential(\n",
        "            nn.Conv1d(160,256, 32, 4),\n",
        "            nn.BatchNorm1d(256),\n",
        "            nn.MaxPool1d(8, stride=1 ),\n",
        "            nn.ReLU()) (x1)\n",
        "\n",
        "x3 = nn.Sequential(\n",
        "            nn.Conv1d(256,256,32,2),\n",
        "            nn.BatchNorm1d(256),\n",
        "            nn.MaxPool1d(4, stride=1 ),\n",
        "            nn.ReLU()) (x2)\n",
        "\n",
        "x4 = nn.Sequential(\n",
        "            nn.Conv1d(256,512,32,2),\n",
        "            nn.BatchNorm1d(512),\n",
        "            nn.MaxPool1d(4, stride=1 ),\n",
        "            nn.ReLU()) (x3)\n",
        "      \n",
        "x5 = nn.Sequential(\n",
        "            nn.Conv1d(512,1024,16,2),\n",
        "            nn.BatchNorm1d(1024),\n",
        "            nn.MaxPool1d(4, stride=1 ),\n",
        "            nn.ReLU(),\n",
        "           ) (x4)\n",
        "\n",
        "x6 = nn.Sequential(\n",
        "            nn.Conv1d(1024,2048,16),\n",
        "            nn.BatchNorm1d(2048),\n",
        "            nn.MaxPool1d(4, stride=1 ),\n",
        "            nn.ReLU(),\n",
        "           ) (x5)\n",
        "\n",
        "x7 = nn.Flatten()(x6)\n",
        "x8 = nn.Dropout()(x7)\n",
        "\n",
        "x9 = nn.Linear(20480,8192)(x8)\n",
        "x9 = nn.Linear(8192,2048)(x9)\n",
        "x9 = nn.Linear(2048, 512)(x9)\n",
        "x9 = nn.Linear(512, 256)(x9)\n",
        "x9 = nn.Linear(256, 50)(x9)"
      ],
      "execution_count": 0,
      "outputs": [
        {
          "output_type": "error",
          "ename": "NameError",
          "evalue": "ignored",
          "traceback": [
            "\u001b[0;31m---------------------------------------------------------------------------\u001b[0m",
            "\u001b[0;31mNameError\u001b[0m                                 Traceback (most recent call last)",
            "\u001b[0;32m<ipython-input-22-5512e68666ed>\u001b[0m in \u001b[0;36m<module>\u001b[0;34m()\u001b[0m\n\u001b[1;32m      1\u001b[0m \u001b[0msignal\u001b[0m\u001b[0;34m,\u001b[0m \u001b[0mrate\u001b[0m \u001b[0;34m=\u001b[0m \u001b[0mtorchaudio\u001b[0m\u001b[0;34m.\u001b[0m\u001b[0mload\u001b[0m\u001b[0;34m(\u001b[0m\u001b[0;34m'/content/drive/My Drive/FInalModel/Data/1-19111-A-24.wav'\u001b[0m\u001b[0;34m)\u001b[0m\u001b[0;34m\u001b[0m\u001b[0;34m\u001b[0m\u001b[0m\n\u001b[1;32m      2\u001b[0m \u001b[0msignal\u001b[0m \u001b[0;34m=\u001b[0m \u001b[0msignal\u001b[0m\u001b[0;34m.\u001b[0m\u001b[0mreshape\u001b[0m\u001b[0;34m(\u001b[0m\u001b[0;34m(\u001b[0m\u001b[0;36m1\u001b[0m\u001b[0;34m,\u001b[0m\u001b[0;36m1\u001b[0m\u001b[0;34m,\u001b[0m\u001b[0;36m220500\u001b[0m\u001b[0;34m)\u001b[0m\u001b[0;34m)\u001b[0m\u001b[0;34m\u001b[0m\u001b[0;34m\u001b[0m\u001b[0m\n\u001b[0;32m----> 3\u001b[0;31m x = nn.Sequential(\n\u001b[0m\u001b[1;32m      4\u001b[0m             \u001b[0mSincConv_fast\u001b[0m\u001b[0;34m(\u001b[0m\u001b[0;36m80\u001b[0m\u001b[0;34m,\u001b[0m \u001b[0;36m64\u001b[0m\u001b[0;34m,\u001b[0m \u001b[0mstride\u001b[0m\u001b[0;34m=\u001b[0m\u001b[0;36m8\u001b[0m\u001b[0;34m)\u001b[0m\u001b[0;34m,\u001b[0m\u001b[0;34m\u001b[0m\u001b[0;34m\u001b[0m\u001b[0m\n\u001b[1;32m      5\u001b[0m             \u001b[0mnn\u001b[0m\u001b[0;34m.\u001b[0m\u001b[0mBatchNorm1d\u001b[0m\u001b[0;34m(\u001b[0m\u001b[0;36m80\u001b[0m\u001b[0;34m)\u001b[0m\u001b[0;34m,\u001b[0m\u001b[0;34m\u001b[0m\u001b[0;34m\u001b[0m\u001b[0m\n",
            "\u001b[0;31mNameError\u001b[0m: name 'nn' is not defined"
          ]
        }
      ]
    },
    {
      "cell_type": "code",
      "metadata": {
        "id": "OHgnfOvPF9Qn",
        "colab_type": "code",
        "outputId": "0b8da5f8-d831-430d-c0a2-3154569d07af",
        "colab": {
          "base_uri": "https://localhost:8080/",
          "height": 213
        }
      },
      "source": [
        "print(x9.argmax())\n",
        "# plt.plot(x6[500].detach())\n",
        "# plt.show()\n",
        "# [1, 20480]\n"
      ],
      "execution_count": 0,
      "outputs": [
        {
          "output_type": "error",
          "ename": "NameError",
          "evalue": "ignored",
          "traceback": [
            "\u001b[0;31m---------------------------------------------------------------------------\u001b[0m",
            "\u001b[0;31mNameError\u001b[0m                                 Traceback (most recent call last)",
            "\u001b[0;32m<ipython-input-23-f97a8c1264dd>\u001b[0m in \u001b[0;36m<module>\u001b[0;34m()\u001b[0m\n\u001b[0;32m----> 1\u001b[0;31m \u001b[0mprint\u001b[0m\u001b[0;34m(\u001b[0m\u001b[0mx9\u001b[0m\u001b[0;34m.\u001b[0m\u001b[0margmax\u001b[0m\u001b[0;34m(\u001b[0m\u001b[0;34m)\u001b[0m\u001b[0;34m)\u001b[0m\u001b[0;34m\u001b[0m\u001b[0;34m\u001b[0m\u001b[0m\n\u001b[0m\u001b[1;32m      2\u001b[0m \u001b[0;31m# plt.plot(x6[500].detach())\u001b[0m\u001b[0;34m\u001b[0m\u001b[0;34m\u001b[0m\u001b[0;34m\u001b[0m\u001b[0m\n\u001b[1;32m      3\u001b[0m \u001b[0;31m# plt.show()\u001b[0m\u001b[0;34m\u001b[0m\u001b[0;34m\u001b[0m\u001b[0;34m\u001b[0m\u001b[0m\n\u001b[1;32m      4\u001b[0m \u001b[0;31m# [1, 20480]\u001b[0m\u001b[0;34m\u001b[0m\u001b[0;34m\u001b[0m\u001b[0;34m\u001b[0m\u001b[0m\n",
            "\u001b[0;31mNameError\u001b[0m: name 'x9' is not defined"
          ]
        }
      ]
    },
    {
      "cell_type": "code",
      "metadata": {
        "id": "yDf-nwxCixJ8",
        "colab_type": "code",
        "colab": {}
      },
      "source": [
        "  \n",
        "import numpy as np\n",
        "import torch\n",
        "import torch.nn.functional as F\n",
        "import torch.nn as nn\n",
        "import sys\n",
        "from torch.autograd import Variable\n",
        "import math\n",
        "\n",
        "def flip(x, dim):\n",
        "    xsize = x.size()\n",
        "    dim = x.dim() + dim if dim < 0 else dim\n",
        "    x = x.contiguous()\n",
        "    x = x.view(-1, *xsize[dim:])\n",
        "    x = x.view(x.size(0), x.size(1), -1)[:, getattr(torch.arange(x.size(1)-1, \n",
        "                      -1, -1), ('cpu','cuda')[x.is_cuda])().long(), :]\n",
        "    return x.view(xsize)\n",
        "\n",
        "\n",
        "def sinc(band,t_right):\n",
        "    y_right= torch.sin(2*math.pi*band*t_right)/(2*math.pi*band*t_right)\n",
        "    y_left= flip(y_right,0)\n",
        "\n",
        "    y=torch.cat([y_left,Variable(torch.ones(1)).cuda(),y_right])\n",
        "\n",
        "    return y\n",
        "    \n",
        "\n",
        "class SincConv_fast(nn.Module):\n",
        "    \"\"\"Sinc-based convolution\n",
        "    Parameters\n",
        "    ----------\n",
        "    in_channels : `int`\n",
        "        Number of input channels. Must be 1.\n",
        "    out_channels : `int`\n",
        "        Number of filters.\n",
        "    kernel_size : `int`\n",
        "        Filter length.\n",
        "    sample_rate : `int`, optional\n",
        "        Sample rate. Defaults to 16000.\n",
        "    Usage\n",
        "    -----\n",
        "    See `torch.nn.Conv1d`\n",
        "    Reference\n",
        "    ---------\n",
        "    Mirco Ravanelli, Yoshua Bengio,\n",
        "    \"Speaker Recognition from raw waveform with SincNet\".\n",
        "    https://arxiv.org/abs/1808.00158\n",
        "    \"\"\"\n",
        "\n",
        "    @staticmethod\n",
        "    def to_mel(hz):\n",
        "        return 2595 * np.log10(1 + hz / 700)\n",
        "\n",
        "    @staticmethod\n",
        "    def to_hz(mel):\n",
        "        return 700 * (10 ** (mel / 2595) - 1)\n",
        "\n",
        "    def __init__(self, out_channels, kernel_size, sample_rate=16000, in_channels=1,\n",
        "                 stride=1, padding=0, dilation=1, bias=False, groups=1, min_low_hz=50, min_band_hz=50):\n",
        "\n",
        "        super(SincConv_fast,self).__init__()\n",
        "\n",
        "        if in_channels != 1:\n",
        "            #msg = (f'SincConv only support one input channel '\n",
        "            #       f'(here, in_channels = {in_channels:d}).')\n",
        "            msg = \"SincConv only support one input channel (here, in_channels = {%i})\" % (in_channels)\n",
        "            raise ValueError(msg)\n",
        "\n",
        "        self.out_channels = out_channels\n",
        "        self.kernel_size = kernel_size\n",
        "        \n",
        "        # Forcing the filters to be odd (i.e, perfectly symmetrics)\n",
        "        if kernel_size%2==0:\n",
        "            self.kernel_size=self.kernel_size+1\n",
        "            \n",
        "        self.stride = stride\n",
        "        self.padding = padding\n",
        "        self.dilation = dilation\n",
        "\n",
        "        if bias:\n",
        "            raise ValueError('SincConv does not support bias.')\n",
        "        if groups > 1:\n",
        "            raise ValueError('SincConv does not support groups.')\n",
        "\n",
        "        self.sample_rate = sample_rate\n",
        "        self.min_low_hz = min_low_hz\n",
        "        self.min_band_hz = min_band_hz\n",
        "\n",
        "        # initialize filterbanks such that they are equally spaced in Mel scale\n",
        "        low_hz = 30\n",
        "        high_hz = self.sample_rate / 2 - (self.min_low_hz + self.min_band_hz)\n",
        "\n",
        "        mel = np.linspace(self.to_mel(low_hz),\n",
        "                          self.to_mel(high_hz),\n",
        "                          self.out_channels + 1)\n",
        "        hz = self.to_hz(mel)\n",
        "        \n",
        "\n",
        "        # filter lower frequency (out_channels, 1)\n",
        "        self.low_hz_ = nn.Parameter(torch.Tensor(hz[:-1]).view(-1, 1))\n",
        "\n",
        "        # filter frequency band (out_channels, 1)\n",
        "        self.band_hz_ = nn.Parameter(torch.Tensor(np.diff(hz)).view(-1, 1))\n",
        "\n",
        "        # Hamming window\n",
        "        #self.window_ = torch.hamming_window(self.kernel_size)\n",
        "        n_lin=torch.linspace(0, (self.kernel_size/2)-1, steps=int((self.kernel_size/2))) # computing only half of the window\n",
        "        self.window_=0.54-0.46*torch.cos(2*math.pi*n_lin/self.kernel_size);\n",
        "\n",
        "\n",
        "        # (1, kernel_size/2)\n",
        "        n = (self.kernel_size - 1) / 2.0\n",
        "        self.n_ = 2*math.pi*torch.arange(-n, 0).view(1, -1) / self.sample_rate # Due to symmetry, I only need half of the time axes\n",
        "\n",
        " \n",
        "\n",
        "\n",
        "    def forward(self, waveforms):\n",
        "        \"\"\"\n",
        "        Parameters\n",
        "        ----------\n",
        "        waveforms : `torch.Tensor` (batch_size, 1, n_samples)\n",
        "            Batch of waveforms.\n",
        "        Returns\n",
        "        -------\n",
        "        features : `torch.Tensor` (batch_size, out_channels, n_samples_out)\n",
        "            Batch of sinc filters activations.\n",
        "        \"\"\"\n",
        "\n",
        "        self.n_ = self.n_.to(waveforms.device)\n",
        "\n",
        "        self.window_ = self.window_.to(waveforms.device)\n",
        "\n",
        "        low = self.min_low_hz  + torch.abs(self.low_hz_)\n",
        "        \n",
        "        high = torch.clamp(low + self.min_band_hz + torch.abs(self.band_hz_),self.min_low_hz,self.sample_rate/2)\n",
        "        band=(high-low)[:,0]\n",
        "        \n",
        "        f_times_t_low = torch.matmul(low, self.n_)\n",
        "        f_times_t_high = torch.matmul(high, self.n_)\n",
        "\n",
        "        band_pass_left=((torch.sin(f_times_t_high)-torch.sin(f_times_t_low))/(self.n_/2))*self.window_ # Equivalent of Eq.4 of the reference paper (SPEAKER RECOGNITION FROM RAW WAVEFORM WITH SINCNET). I just have expanded the sinc and simplified the terms. This way I avoid several useless computations. \n",
        "        band_pass_center = 2*band.view(-1,1)\n",
        "        band_pass_right= torch.flip(band_pass_left,dims=[1])\n",
        "        \n",
        "        \n",
        "        band_pass=torch.cat([band_pass_left,band_pass_center,band_pass_right],dim=1)\n",
        "\n",
        "        \n",
        "        band_pass = band_pass / (2*band[:,None])\n",
        "        \n",
        "\n",
        "        self.filters = (band_pass).view(\n",
        "            self.out_channels, 1, self.kernel_size)\n",
        "\n",
        "        return F.conv1d(waveforms, self.filters, stride=self.stride,\n",
        "                        padding=self.padding, dilation=self.dilation,\n",
        "                         bias=None, groups=1)"
      ],
      "execution_count": 0,
      "outputs": []
    },
    {
      "cell_type": "code",
      "metadata": {
        "id": "HGJZj5NRSIxR",
        "colab_type": "code",
        "colab": {}
      },
      "source": [
        "\n",
        "class SampleCNN(nn.Module):\n",
        "    def __init__(self):\n",
        "          super(SampleCNN, self).__init__()\n",
        "\n",
        "          self.conv1 = nn.Sequential(\n",
        "            SincConv_fast(80, 64, stride=8 ),\n",
        "            nn.BatchNorm1d(80),\n",
        "            nn.MaxPool1d(16, stride=2 ),\n",
        "            nn.LeakyReLU()) \n",
        "\n",
        "          self.conv2 = nn.Sequential(\n",
        "            # SincConv_fast(160, 64, in_channels=80, stride=4),\n",
        "            nn.Conv1d(80,160, 64, 4),\n",
        "            nn.BatchNorm1d(160),\n",
        "            nn.AvgPool1d(8, stride=2 ),\n",
        "            nn.LeakyReLU()) \n",
        "\n",
        "          self.conv3 = nn.Sequential(\n",
        "            # SincConv_fast(256, 32, in_channels=160, stride=4), \n",
        "            nn.Conv1d(160,256, 32, 4),\n",
        "            nn.BatchNorm1d(256),\n",
        "            nn.MaxPool1d(8, stride=1 ),\n",
        "            nn.ReLU()) \n",
        "\n",
        "          self.conv4 = nn.Sequential(\n",
        "            nn.Conv1d(256,256,32,2),\n",
        "            nn.BatchNorm1d(256),\n",
        "            nn.MaxPool1d(4, stride=1 ),\n",
        "            nn.ReLU()) \n",
        "\n",
        "          self.conv5 = nn.Sequential(\n",
        "            nn.Conv1d(256,512,32,2),\n",
        "            nn.BatchNorm1d(512),\n",
        "            nn.MaxPool1d(4, stride=1 ),\n",
        "            nn.ReLU())\n",
        "      \n",
        "          self.conv6 = nn.Sequential(\n",
        "            nn.Conv1d(512,1024,16,2),\n",
        "            nn.BatchNorm1d(1024),\n",
        "            nn.MaxPool1d(4, stride=1 ),\n",
        "            nn.ReLU(),\n",
        "           ) \n",
        "\n",
        "          self.conv7 = nn.Sequential(\n",
        "            nn.Conv1d(1024,2048,16),\n",
        "            nn.BatchNorm1d(2048),\n",
        "            nn.MaxPool1d(4, stride=1 ),\n",
        "            nn.ReLU(),\n",
        "           ) \n",
        "\n",
        "          self.fc = nn.Flatten()\n",
        "          self.dp = nn.Dropout()\n",
        " \n",
        "          self.fc1 = nn.Linear(20480,8192) \n",
        "          self.fc2 = nn.Linear(8192,2048) \n",
        "          self.fc3 = nn.Linear(2048, 512) \n",
        "          self.fc4 = nn.Linear(512, 256) \n",
        "          self.fc5 = nn.Linear(256, 50) \n",
        "          self.activation = nn.Sigmoid()\n",
        "        \n",
        "        \n",
        "        # # [1,1,220500]\n",
        "        # self.conv1 = nn.Sequential(\n",
        "        #     SincConv_fast(16000, 80, stride=16 ),\n",
        "        #     nn.BatchNorm1d(128),\n",
        "        #     nn.MaxPool1d(3, stride=1),\n",
        "        #     nn.ReLU())\n",
        "        \n",
        "        # # [1, 80, 27552]\n",
        "        # self.conv2 = nn.Sequential(\n",
        "        #     nn.Conv1d(128, 256, kernel_size=16, stride=16, padding=0 ),\n",
        "        #     nn.BatchNorm1d(256),\n",
        "        #     nn.ReLU(),\n",
        "            \n",
        "        #     # nn.MaxPool1d(3, stride=1)\n",
        "        #     )\n",
        "        # # [1, 160, 6878]\n",
        "        # self.conv3 = nn.Sequential(\n",
        "        #     nn.Conv1d(256, 512, kernel_size=16, stride=8, padding=1 ),\n",
        "        #     # nn.BatchNorm1d(256),\n",
        "        #     nn.ReLU(),\n",
        "        #     nn.MaxPool2d(3,stride=1),\n",
        "        #     nn.Dropout(0.5),\n",
        "        #     nn.Flatten()\n",
        "        #     # nn.MaxPool1d(3, stride=1)\n",
        "        #     )\n",
        "        \n",
        "        # # [1, 256, 3432]\n",
        "\n",
        "        # # [1, 256, 3425])\n",
        "        # # self.conv4 = nn.Sequential(\n",
        "        # #     nn.Conv1d(256, 512, kernel_size=3, stride=2, padding=1 ),\n",
        "        # #     # nn.BatchNorm1d(256),\n",
        "        # #     nn.ReLU(),\n",
        "        # #     nn.MaxPool2d(3,stride=1),\n",
        "        # #     nn.Dropout(0.5),\n",
        "        # #     nn.Flatten()\n",
        "        # #     )\n",
        "        \n",
        "        # # self.flatten =nn.Flatten()\n",
        "        \n",
        "        # 1 x 512 \n",
        "        # self.fc1= nn.Linear(5100, 2)\n",
        "        \n",
        "        # # self.fc = nn.Linear(512)\n",
        "        # # self.fc2 = nn.Linear(2048, 512)\n",
        "        # # self.fc3 = nn.Linear(512, 64)\n",
        "        # # self.fc4 = nn.Linear(64,2)        \n",
        "        # self.activation = nn.Sigmoid()\n",
        "    \n",
        "    def forward(self, x):\n",
        "        \n",
        "        out = self.conv1(x)\n",
        "        out = self.conv2(out)\n",
        "        out = self.conv3(out)\n",
        "        out = self.conv4(out)\n",
        "        out = self.conv5(out)\n",
        "        out = self.conv6(out)\n",
        "        out = self.conv7(out)\n",
        "       \n",
        "         \n",
        "        \n",
        "        out = self.fc(out)\n",
        "        out = self.dp(out)\n",
        "        out = self.fc1(out)\n",
        "        out = self.fc2(out)\n",
        "        out = self.fc3(out)\n",
        "        out = self.fc4(out)\n",
        "        out = self.fc5(out) \n",
        "        logit = self.activation(out)\n",
        "\n",
        "        return logit"
      ],
      "execution_count": 0,
      "outputs": []
    },
    {
      "cell_type": "code",
      "metadata": {
        "id": "srZ_2aOFZ1oz",
        "colab_type": "code",
        "outputId": "67603383-ad5e-48a9-d772-5840253d70de",
        "colab": {
          "base_uri": "https://localhost:8080/",
          "height": 302
        }
      },
      "source": [
        "\n",
        "import torch.optim as optim\n",
        "\n",
        "model = SampleCNN()\n",
        "optimizer = optim.Adam(model.parameters(), lr = 0.0001) \n",
        "criterion = nn.MSELoss() \n",
        "\n",
        "\n",
        "for epoch in range(300):  \n",
        "    j = 0\n",
        "    cor = 0\n",
        "    running_loss = 0.0\n",
        "    for  x in train_files :\n",
        "\n",
        "        signal, rate = torchaudio.load(x)\n",
        "        inputs = signal.reshape((1,1,220500))\n",
        "        label = file_to_int[x]\n",
        "        # label = torch.tensor(label, dtype = torch.float32)\n",
        "       \n",
        "        optimizer.zero_grad()\n",
        "\n",
        "        # forward + backward + optimize\n",
        "        outputs = model(inputs)\n",
        "\n",
        "       \n",
        "        loss = criterion(outputs, label)\n",
        "        loss.backward()\n",
        "        optimizer.step()\n",
        "\n",
        "        # print statistics\n",
        "        running_loss += loss.item()\n",
        "        if(j%100==99):\n",
        "          print('running_loss')\n",
        "        if (torch.argmax(label) == torch.argmax(outputs)):\n",
        "           cor = cor+1\n",
        "        j = j+1\n",
        "    print('Epoch: {} Loss: {} Acc: {}'.format(epoch, running_loss, cor/1979))\n",
        "    running_loss = 0.0\n",
        "\n",
        "\n",
        "print('Finished Training')"
      ],
      "execution_count": 0,
      "outputs": [
        {
          "output_type": "stream",
          "text": [
            "running_loss\n",
            "running_loss\n",
            "running_loss\n",
            "running_loss\n",
            "running_loss\n",
            "running_loss\n",
            "running_loss\n",
            "running_loss\n",
            "running_loss\n",
            "running_loss\n",
            "running_loss\n",
            "running_loss\n",
            "running_loss\n",
            "running_loss\n",
            "running_loss\n",
            "running_loss\n",
            "running_loss\n"
          ],
          "name": "stdout"
        }
      ]
    },
    {
      "cell_type": "code",
      "metadata": {
        "id": "fCmaQ9G2DsJ9",
        "colab_type": "code",
        "colab": {}
      },
      "source": [
        "train_files.remove('/content/drive/My Drive/FInalModel/Data/5-251489-A-24 (1).wav')"
      ],
      "execution_count": 0,
      "outputs": []
    },
    {
      "cell_type": "code",
      "metadata": {
        "id": "Go86-Tz9Qs_j",
        "colab_type": "code",
        "outputId": "3acae58b-b87d-4d21-bbc7-bcfbb086141b",
        "colab": {
          "base_uri": "https://localhost:8080/"
        }
      },
      "source": [
        "outputs.size()"
      ],
      "execution_count": 0,
      "outputs": [
        {
          "output_type": "execute_result",
          "data": {
            "text/plain": [
              "torch.Size([1, 50])"
            ]
          },
          "metadata": {
            "tags": []
          },
          "execution_count": 39
        }
      ]
    },
    {
      "cell_type": "code",
      "metadata": {
        "id": "N1dpk6QbDx7C",
        "colab_type": "code",
        "outputId": "1cf47e03-28d3-43bf-e7bb-24df95f48ac9",
        "colab": {
          "base_uri": "https://localhost:8080/",
          "height": 34
        }
      },
      "source": [
        "'/content/drive/My Drive/FInalModel/Data/5-251489-A-24 (1).wav' in train_files"
      ],
      "execution_count": 0,
      "outputs": [
        {
          "output_type": "execute_result",
          "data": {
            "text/plain": [
              "False"
            ]
          },
          "metadata": {
            "tags": []
          },
          "execution_count": 14
        }
      ]
    },
    {
      "cell_type": "code",
      "metadata": {
        "id": "z1lrXgU5N7pT",
        "colab_type": "code",
        "colab": {}
      },
      "source": [
        "model = SampleCNN()\n",
        "example = torch.rand(1,1, 220500, dtype= torch.float32)\n",
        "# model.load_state_dict(torch.load('/content/drive/My Drive/Pytorch/good3'))"
      ],
      "execution_count": 0,
      "outputs": []
    },
    {
      "cell_type": "code",
      "metadata": {
        "id": "qsiOdY7XOCqx",
        "colab_type": "code",
        "outputId": "a7e99676-61af-47f9-b123-2f4d35456eb2",
        "colab": {
          "base_uri": "https://localhost:8080/",
          "height": 87
        }
      },
      "source": [
        "traced_script_module = torch.jit.trace(model, (torch.rand(1, 1, 220500)) ,check_tolerance=1e-05, _force_outplace=True)\n",
        "traced_script_module\n",
        "traced_script_module.save('/content/drive/My Drive/Pytorch/script.zip')"
      ],
      "execution_count": 0,
      "outputs": [
        {
          "output_type": "stream",
          "text": [
            "/usr/local/lib/python3.6/dist-packages/torch/jit/__init__.py:1037: TracerWarning: Output nr 1. of the traced function does not match the corresponding output of the Python function. Detailed error:\n",
            "Not within tolerance rtol=1e-05 atol=1e-05 at input[0, 1] (0.3484496772289276 vs. 0.25080135464668274) and 1 other locations (100.00%)\n",
            "  check_tolerance, _force_outplace, True, _module_class)\n"
          ],
          "name": "stderr"
        }
      ]
    },
    {
      "cell_type": "code",
      "metadata": {
        "id": "AdBUvInGyeT5",
        "colab_type": "code",
        "colab": {}
      },
      "source": [
        "torch.save(model.state_dict(), '/content/drive/My Drive/Pytorch/good3')\n"
      ],
      "execution_count": 0,
      "outputs": []
    },
    {
      "cell_type": "code",
      "metadata": {
        "id": "Bcp93p0Dz944",
        "colab_type": "code",
        "outputId": "308f37ee-2294-4000-e96c-5377c6c35d2c",
        "colab": {
          "base_uri": "https://localhost:8080/",
          "height": 451
        }
      },
      "source": [
        "newmodel = SampleCNN()\n",
        "newmodel.load_state_dict(torch.load('/content/drive/My Drive/Pytorch/good'))\n",
        "cor = 0\n",
        "for i, x in enumerate(train_files, 0):\n",
        "  signal, rate = torchaudio.load(x)\n",
        "  inputs = signal.reshape((1,1,220500))\n",
        "  label = file_to_label[train_files[0]].reshape((1,3))\n",
        "        \n",
        "  outputs = newmodel(inputs)\n",
        "  \n",
        "  if (torch.argmax(label) == torch.argmax(outputs)):\n",
        "    cor = cor+1\n",
        "acc = (cor/130)*100\n",
        "print('Acc: {}'.format(acc))"
      ],
      "execution_count": 0,
      "outputs": [
        {
          "output_type": "error",
          "ename": "RuntimeError",
          "evalue": "ignored",
          "traceback": [
            "\u001b[0;31m---------------------------------------------------------------------------\u001b[0m",
            "\u001b[0;31mRuntimeError\u001b[0m                              Traceback (most recent call last)",
            "\u001b[0;32m<ipython-input-27-c0d736416686>\u001b[0m in \u001b[0;36m<module>\u001b[0;34m()\u001b[0m\n\u001b[1;32m      1\u001b[0m \u001b[0mnewmodel\u001b[0m \u001b[0;34m=\u001b[0m \u001b[0mSampleCNN\u001b[0m\u001b[0;34m(\u001b[0m\u001b[0;34m)\u001b[0m\u001b[0;34m\u001b[0m\u001b[0;34m\u001b[0m\u001b[0m\n\u001b[0;32m----> 2\u001b[0;31m \u001b[0mnewmodel\u001b[0m\u001b[0;34m.\u001b[0m\u001b[0mload_state_dict\u001b[0m\u001b[0;34m(\u001b[0m\u001b[0mtorch\u001b[0m\u001b[0;34m.\u001b[0m\u001b[0mload\u001b[0m\u001b[0;34m(\u001b[0m\u001b[0;34m'/content/drive/My Drive/Pytorch/good'\u001b[0m\u001b[0;34m)\u001b[0m\u001b[0;34m)\u001b[0m\u001b[0;34m\u001b[0m\u001b[0;34m\u001b[0m\u001b[0m\n\u001b[0m\u001b[1;32m      3\u001b[0m \u001b[0mcor\u001b[0m \u001b[0;34m=\u001b[0m \u001b[0;36m0\u001b[0m\u001b[0;34m\u001b[0m\u001b[0;34m\u001b[0m\u001b[0m\n\u001b[1;32m      4\u001b[0m \u001b[0;32mfor\u001b[0m \u001b[0mi\u001b[0m\u001b[0;34m,\u001b[0m \u001b[0mx\u001b[0m \u001b[0;32min\u001b[0m \u001b[0menumerate\u001b[0m\u001b[0;34m(\u001b[0m\u001b[0mtrain_files\u001b[0m\u001b[0;34m,\u001b[0m \u001b[0;36m0\u001b[0m\u001b[0;34m)\u001b[0m\u001b[0;34m:\u001b[0m\u001b[0;34m\u001b[0m\u001b[0;34m\u001b[0m\u001b[0m\n\u001b[1;32m      5\u001b[0m   \u001b[0msignal\u001b[0m\u001b[0;34m,\u001b[0m \u001b[0mrate\u001b[0m \u001b[0;34m=\u001b[0m \u001b[0mtorchaudio\u001b[0m\u001b[0;34m.\u001b[0m\u001b[0mload\u001b[0m\u001b[0;34m(\u001b[0m\u001b[0mx\u001b[0m\u001b[0;34m)\u001b[0m\u001b[0;34m\u001b[0m\u001b[0;34m\u001b[0m\u001b[0m\n",
            "\u001b[0;32m/usr/local/lib/python3.6/dist-packages/torch/nn/modules/module.py\u001b[0m in \u001b[0;36mload_state_dict\u001b[0;34m(self, state_dict, strict)\u001b[0m\n\u001b[1;32m    845\u001b[0m         \u001b[0;32mif\u001b[0m \u001b[0mlen\u001b[0m\u001b[0;34m(\u001b[0m\u001b[0merror_msgs\u001b[0m\u001b[0;34m)\u001b[0m \u001b[0;34m>\u001b[0m \u001b[0;36m0\u001b[0m\u001b[0;34m:\u001b[0m\u001b[0;34m\u001b[0m\u001b[0;34m\u001b[0m\u001b[0m\n\u001b[1;32m    846\u001b[0m             raise RuntimeError('Error(s) in loading state_dict for {}:\\n\\t{}'.format(\n\u001b[0;32m--> 847\u001b[0;31m                                self.__class__.__name__, \"\\n\\t\".join(error_msgs)))\n\u001b[0m\u001b[1;32m    848\u001b[0m         \u001b[0;32mreturn\u001b[0m \u001b[0m_IncompatibleKeys\u001b[0m\u001b[0;34m(\u001b[0m\u001b[0mmissing_keys\u001b[0m\u001b[0;34m,\u001b[0m \u001b[0munexpected_keys\u001b[0m\u001b[0;34m)\u001b[0m\u001b[0;34m\u001b[0m\u001b[0;34m\u001b[0m\u001b[0m\n\u001b[1;32m    849\u001b[0m \u001b[0;34m\u001b[0m\u001b[0m\n",
            "\u001b[0;31mRuntimeError\u001b[0m: Error(s) in loading state_dict for SampleCNN:\n\tMissing key(s) in state_dict: \"conv2.1.weight\", \"conv2.1.bias\", \"conv2.1.running_mean\", \"conv2.1.running_var\". \n\tUnexpected key(s) in state_dict: \"conv4.0.weight\", \"conv4.0.bias\", \"conv3.1.weight\", \"conv3.1.bias\", \"conv3.1.running_mean\", \"conv3.1.running_var\", \"conv3.1.num_batches_tracked\". \n\tsize mismatch for fc1.weight: copying a param with shape torch.Size([512, 12750]) from checkpoint, the shape in current model is torch.Size([512, 13208]).\n\tsize mismatch for fc3.weight: copying a param with shape torch.Size([3, 64]) from checkpoint, the shape in current model is torch.Size([2, 64]).\n\tsize mismatch for fc3.bias: copying a param with shape torch.Size([3]) from checkpoint, the shape in current model is torch.Size([2])."
          ]
        }
      ]
    },
    {
      "cell_type": "code",
      "metadata": {
        "id": "getXqwYT2Eym",
        "colab_type": "code",
        "outputId": "02a0ac03-1bf8-48fb-e473-794ad98aff38",
        "colab": {
          "base_uri": "https://localhost:8080/",
          "height": 230
        }
      },
      "source": [
        "test_files = glob.glob('/content/drive/My Drive/Pytorch/Cough/*wav')\n",
        "cor = 00\n",
        "# for i, x in enumerate(test_files, 0):\n",
        "# signal, rate = torchaudio.load(test_files[6])\n",
        "  # signal = torchaudio\n",
        "inputs = signal.reshape((1,1,220500))\n",
        "label = torch.tensor([1,0,0], dtype = torch.float32)\n",
        "        \n",
        "outputs = model(inputs)\n",
        "  \n",
        "  # if (torch.argmax(label) == torch.argmax(outputs)):\n",
        "    # cor = cor+1\n",
        "# acc = (cor/i)*100\n",
        "# print(' Test Acc: {}'.format(acc))\n",
        "outputs"
      ],
      "execution_count": 0,
      "outputs": [
        {
          "output_type": "error",
          "ename": "RuntimeError",
          "evalue": "ignored",
          "traceback": [
            "\u001b[0;31m---------------------------------------------------------------------------\u001b[0m",
            "\u001b[0;31mRuntimeError\u001b[0m                              Traceback (most recent call last)",
            "\u001b[0;32m<ipython-input-26-9b03e3081e93>\u001b[0m in \u001b[0;36m<module>\u001b[0;34m()\u001b[0m\n\u001b[1;32m      4\u001b[0m \u001b[0msignal\u001b[0m\u001b[0;34m,\u001b[0m \u001b[0mrate\u001b[0m \u001b[0;34m=\u001b[0m \u001b[0mtorchaudio\u001b[0m\u001b[0;34m.\u001b[0m\u001b[0mload\u001b[0m\u001b[0;34m(\u001b[0m\u001b[0mtest_files\u001b[0m\u001b[0;34m[\u001b[0m\u001b[0;36m6\u001b[0m\u001b[0;34m]\u001b[0m\u001b[0;34m)\u001b[0m\u001b[0;34m\u001b[0m\u001b[0;34m\u001b[0m\u001b[0m\n\u001b[1;32m      5\u001b[0m   \u001b[0;31m# signal = torchaudio\u001b[0m\u001b[0;34m\u001b[0m\u001b[0;34m\u001b[0m\u001b[0;34m\u001b[0m\u001b[0m\n\u001b[0;32m----> 6\u001b[0;31m \u001b[0minputs\u001b[0m \u001b[0;34m=\u001b[0m \u001b[0msignal\u001b[0m\u001b[0;34m.\u001b[0m\u001b[0mreshape\u001b[0m\u001b[0;34m(\u001b[0m\u001b[0;34m(\u001b[0m\u001b[0;36m1\u001b[0m\u001b[0;34m,\u001b[0m\u001b[0;36m1\u001b[0m\u001b[0;34m,\u001b[0m\u001b[0;36m220500\u001b[0m\u001b[0;34m)\u001b[0m\u001b[0;34m)\u001b[0m\u001b[0;34m\u001b[0m\u001b[0;34m\u001b[0m\u001b[0m\n\u001b[0m\u001b[1;32m      7\u001b[0m \u001b[0mlabel\u001b[0m \u001b[0;34m=\u001b[0m \u001b[0mtorch\u001b[0m\u001b[0;34m.\u001b[0m\u001b[0mtensor\u001b[0m\u001b[0;34m(\u001b[0m\u001b[0;34m[\u001b[0m\u001b[0;36m1\u001b[0m\u001b[0;34m,\u001b[0m\u001b[0;36m0\u001b[0m\u001b[0;34m,\u001b[0m\u001b[0;36m0\u001b[0m\u001b[0;34m]\u001b[0m\u001b[0;34m,\u001b[0m \u001b[0mdtype\u001b[0m \u001b[0;34m=\u001b[0m \u001b[0mtorch\u001b[0m\u001b[0;34m.\u001b[0m\u001b[0mfloat32\u001b[0m\u001b[0;34m)\u001b[0m\u001b[0;34m\u001b[0m\u001b[0;34m\u001b[0m\u001b[0m\n\u001b[1;32m      8\u001b[0m \u001b[0;34m\u001b[0m\u001b[0m\n",
            "\u001b[0;31mRuntimeError\u001b[0m: shape '[1, 1, 220500]' is invalid for input of size 342026"
          ]
        }
      ]
    },
    {
      "cell_type": "code",
      "metadata": {
        "id": "YZJPb8-ZbSVv",
        "colab_type": "code",
        "outputId": "11209918-db03-4aac-b643-41da4294e190",
        "colab": {
          "base_uri": "https://localhost:8080/",
          "height": 34
        }
      },
      "source": [
        "len(file_to_label)"
      ],
      "execution_count": 0,
      "outputs": [
        {
          "output_type": "execute_result",
          "data": {
            "text/plain": [
              "80"
            ]
          },
          "metadata": {
            "tags": []
          },
          "execution_count": 26
        }
      ]
    },
    {
      "cell_type": "code",
      "metadata": {
        "id": "eqpo4ZwfZphC",
        "colab_type": "code",
        "colab": {}
      },
      "source": [
        "# j = 0\n",
        "# model = SampleCNN()\n",
        "# signal, rate = torchaudio.load(train_files[0])\n",
        "# inputs = signal.reshape((1,1,220500))\n",
        "# # outputs = model(inputs)\n",
        "# optimizer = optim.Adam(model.parameters(), lr = 0.0001) \n",
        "# criterion = nn.CrossEntropyLoss( ) \n",
        "# # loss = criterion(outputs, torch.tensor( file_to_label[train_files[0]] ))\n",
        "# label = file_to_label[train_files[0]].reshape((1,3))\n",
        "#         # labels = labels.reshape([1,3]\n",
        "\n",
        "#         # zero the parameter gradients\n",
        "# optimizer.zero_grad()\n",
        "\n",
        "#         # forward + backward + optimize\n",
        "# outputs = model(inputs)\n",
        "# # outputs = outputs.squeeze_()\n",
        "# # label = label.squeeze_()\n",
        "# loss = criterion(outputs, label )\n",
        "# print(outputs.size())\n",
        "# label.size()"
      ],
      "execution_count": 0,
      "outputs": []
    },
    {
      "cell_type": "code",
      "metadata": {
        "id": "HqihRuSsTbZG",
        "colab_type": "code",
        "colab": {}
      },
      "source": [
        "# m = nn.Sequential(\n",
        "#             nn.Conv1d(256, 512, kernel_size=3, stride=2, padding=1 ),\n",
        "#             # nn.BatchNorm1d(256),\n",
        "#             nn.ReLU(),\n",
        "#             nn.MaxPool2d(3,stride=1),\n",
        "#             nn.Dropout(0.4),\n",
        "#             nn.Flatten()\n",
        "#             )\n",
        "# input = torch.randn(1, 256, 22500)\n",
        "# # input = signal.reshape((1,1,220500))\n",
        "# signal4 = m(input)\n",
        "# print(signal4.size())\n",
        "# plt.plot(signal4[0][45].detach())\n",
        "# plt.title('Sample Signal')\n",
        "# plt.show()\n",
        "\n",
        "# # print('No. of samples: ' + str(signal1.shape[1]))\n",
        "# # print('Smapling Rate: ' + str(rate))\n",
        "# # print('Time period: ' + str(signal1.shape[0]/rate))"
      ],
      "execution_count": 0,
      "outputs": []
    }
  ]
}